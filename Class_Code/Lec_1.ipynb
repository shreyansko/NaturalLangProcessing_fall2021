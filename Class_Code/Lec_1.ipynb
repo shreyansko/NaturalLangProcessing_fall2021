{
 "cells": [
  {
   "cell_type": "code",
   "execution_count": 2,
   "id": "4b55b975",
   "metadata": {},
   "outputs": [
    {
     "data": {
      "text/plain": [
       "'\\nThis is a multi line comment\\nAuthor: Shreyans Kothari\\nPRoject: Lecture 1'"
      ]
     },
     "execution_count": 2,
     "metadata": {},
     "output_type": "execute_result"
    }
   ],
   "source": [
    "\"\"\"\n",
    "This is a multi line comment\n",
    "Author: Shreyans Kothari\n",
    "PRoject: Lecture 1\"\"\""
   ]
  },
  {
   "cell_type": "code",
   "execution_count": null,
   "id": "a835a6d9",
   "metadata": {},
   "outputs": [],
   "source": [
    "#This is a single line comment"
   ]
  },
  {
   "cell_type": "code",
   "execution_count": 1,
   "id": "0592ed82",
   "metadata": {},
   "outputs": [],
   "source": [
    "my_var_int = 1\n",
    "my_var_string = \"shreyans\"\n",
    "my_var_boolean = True #False\n",
    "my_var_float = 3.14"
   ]
  },
  {
   "cell_type": "code",
   "execution_count": 4,
   "id": "a1ddd8e1",
   "metadata": {},
   "outputs": [
    {
     "name": "stdout",
     "output_type": "stream",
     "text": [
      "shreyans\n"
     ]
    }
   ],
   "source": [
    "print(my_var_string)"
   ]
  },
  {
   "cell_type": "code",
   "execution_count": 5,
   "id": "33f8a0e5",
   "metadata": {},
   "outputs": [
    {
     "name": "stdout",
     "output_type": "stream",
     "text": [
      "<class 'str'>\n"
     ]
    }
   ],
   "source": [
    "print(type(my_var_string)) #type() gives the type of the object"
   ]
  },
  {
   "cell_type": "code",
   "execution_count": 6,
   "id": "989fc282",
   "metadata": {},
   "outputs": [
    {
     "name": "stdout",
     "output_type": "stream",
     "text": [
      "<class 'str'>\n"
     ]
    }
   ],
   "source": [
    "my_int_string = \"1234\"\n",
    "print(type(my_int_string))"
   ]
  },
  {
   "cell_type": "code",
   "execution_count": 7,
   "id": "68d06165",
   "metadata": {},
   "outputs": [],
   "source": [
    "my_int_string_conv = int(my_int_string) #converting to integer"
   ]
  },
  {
   "cell_type": "code",
   "execution_count": 8,
   "id": "0bef1a66",
   "metadata": {},
   "outputs": [
    {
     "name": "stdout",
     "output_type": "stream",
     "text": [
      "<class 'int'>\n"
     ]
    }
   ],
   "source": [
    "print(type(my_int_string_conv))"
   ]
  },
  {
   "cell_type": "code",
   "execution_count": 12,
   "id": "70ca058b",
   "metadata": {},
   "outputs": [],
   "source": [
    "my_string = \"Shreyans\" + \" \"+ \"Kothari\" #concatenate"
   ]
  },
  {
   "cell_type": "code",
   "execution_count": 13,
   "id": "15239069",
   "metadata": {},
   "outputs": [
    {
     "name": "stdout",
     "output_type": "stream",
     "text": [
      "Shreyans Kothari\n"
     ]
    }
   ],
   "source": [
    "print(my_string)"
   ]
  },
  {
   "cell_type": "code",
   "execution_count": 14,
   "id": "b88de3c4",
   "metadata": {},
   "outputs": [
    {
     "name": "stdout",
     "output_type": "stream",
     "text": [
      "Shreyans KothariShreyans Kothari\n"
     ]
    }
   ],
   "source": [
    "print(my_string *2) #performs the function twice"
   ]
  },
  {
   "cell_type": "code",
   "execution_count": 3,
   "id": "dc638184",
   "metadata": {},
   "outputs": [],
   "source": [
    "#Data Structure Type- List\n",
    "#Lists can contain different data types\n",
    "#two ways of making a list:\n",
    "my_list = [] \n",
    "my_list = list()"
   ]
  },
  {
   "cell_type": "code",
   "execution_count": 4,
   "id": "0d7faa13",
   "metadata": {},
   "outputs": [],
   "source": [
    "my_list.append(\"Shreyans\") #add stuff to list"
   ]
  },
  {
   "cell_type": "code",
   "execution_count": 5,
   "id": "ac7ea849",
   "metadata": {},
   "outputs": [],
   "source": [
    "my_list.append(\"Shreyans\") #the more you do it, the more it will keep adding your name"
   ]
  },
  {
   "cell_type": "code",
   "execution_count": 6,
   "id": "bee788cb",
   "metadata": {},
   "outputs": [],
   "source": [
    "my_list.append(\"Patrick\")"
   ]
  },
  {
   "cell_type": "code",
   "execution_count": 7,
   "id": "01ac4df6",
   "metadata": {},
   "outputs": [
    {
     "name": "stdout",
     "output_type": "stream",
     "text": [
      "['Shreyans', 'Shreyans', 'Patrick']\n"
     ]
    }
   ],
   "source": [
    "print(my_list)"
   ]
  },
  {
   "cell_type": "code",
   "execution_count": 22,
   "id": "f073a97e",
   "metadata": {},
   "outputs": [
    {
     "data": {
      "text/plain": [
       "'Patrick'"
      ]
     },
     "execution_count": 22,
     "metadata": {},
     "output_type": "execute_result"
    }
   ],
   "source": [
    "# index starts at 0\n",
    "my_list[2]"
   ]
  },
  {
   "cell_type": "code",
   "execution_count": 24,
   "id": "754e64d0",
   "metadata": {},
   "outputs": [
    {
     "name": "stdout",
     "output_type": "stream",
     "text": [
      "3\n"
     ]
    }
   ],
   "source": [
    "print(len(my_list)) #len() gives the length of the object"
   ]
  },
  {
   "cell_type": "code",
   "execution_count": 25,
   "id": "885a0713",
   "metadata": {},
   "outputs": [
    {
     "name": "stdout",
     "output_type": "stream",
     "text": [
      "['Patrick', 'Shreyans', 'Shreyas']\n"
     ]
    }
   ],
   "source": [
    "#common interview question: how do you flip a list -->\n",
    "print(my_list[::-1]) #This is how you reverse a list; take everything and reverse the order\n",
    "#this won't change the actual order, just prints the flip since we used print()"
   ]
  },
  {
   "cell_type": "code",
   "execution_count": 26,
   "id": "819c2773",
   "metadata": {},
   "outputs": [
    {
     "name": "stdout",
     "output_type": "stream",
     "text": [
      "['Shreyas', 'Shreyans']\n"
     ]
    }
   ],
   "source": [
    "print (my_list[0:2])"
   ]
  },
  {
   "cell_type": "code",
   "execution_count": 36,
   "id": "16b9f8c9",
   "metadata": {},
   "outputs": [],
   "source": [
    "my_list_a = [1, 2, 3]\n",
    "my_list_b = [21, 31, 41]"
   ]
  },
  {
   "cell_type": "code",
   "execution_count": 28,
   "id": "08d07d81",
   "metadata": {},
   "outputs": [
    {
     "name": "stdout",
     "output_type": "stream",
     "text": [
      "[1, 2, 3]\n"
     ]
    }
   ],
   "source": [
    "my_list_a_copy = my_list_a\n",
    "print(my_list_a_copy)"
   ]
  },
  {
   "cell_type": "code",
   "execution_count": 29,
   "id": "a556ee2d",
   "metadata": {},
   "outputs": [
    {
     "name": "stdout",
     "output_type": "stream",
     "text": [
      "[1, 2, 3, 4]\n"
     ]
    }
   ],
   "source": [
    "my_list_a.append(4)\n",
    "print(my_list_a)"
   ]
  },
  {
   "cell_type": "code",
   "execution_count": 30,
   "id": "eb00197b",
   "metadata": {},
   "outputs": [
    {
     "name": "stdout",
     "output_type": "stream",
     "text": [
      "[1, 2, 3, 4]\n"
     ]
    }
   ],
   "source": [
    "print(my_list_a_copy) #NOTE!!! this way of copying connects it to the other object and any changes to that object are also made in this one"
   ]
  },
  {
   "cell_type": "code",
   "execution_count": 31,
   "id": "d428dda8",
   "metadata": {},
   "outputs": [
    {
     "name": "stdout",
     "output_type": "stream",
     "text": [
      "[1, 2, 3, 4]\n"
     ]
    }
   ],
   "source": [
    "my_list_a_copy = my_list_a.copy() #use the Tab button to get the menu with all commands like .copy()\n",
    "print(my_list_a_copy)\n",
    "# This way of copying just takes a snapshot and does not connect the new list to the old one\n",
    "#changes to the old list won't change the new one"
   ]
  },
  {
   "cell_type": "code",
   "execution_count": 32,
   "id": "1c79383d",
   "metadata": {},
   "outputs": [
    {
     "name": "stdout",
     "output_type": "stream",
     "text": [
      "[1, 2, 3, 4, 123]\n"
     ]
    }
   ],
   "source": [
    "my_list_a.append(123)\n",
    "print(my_list_a)"
   ]
  },
  {
   "cell_type": "code",
   "execution_count": 33,
   "id": "f8362bed",
   "metadata": {},
   "outputs": [
    {
     "name": "stdout",
     "output_type": "stream",
     "text": [
      "[1, 2, 3, 4]\n"
     ]
    }
   ],
   "source": [
    "print(my_list_a_copy)"
   ]
  },
  {
   "cell_type": "code",
   "execution_count": 34,
   "id": "97b1dae1",
   "metadata": {},
   "outputs": [
    {
     "name": "stdout",
     "output_type": "stream",
     "text": [
      "[21, 31, 41]\n"
     ]
    }
   ],
   "source": [
    "print(my_list_b)"
   ]
  },
  {
   "cell_type": "code",
   "execution_count": 35,
   "id": "09f30c4a",
   "metadata": {},
   "outputs": [
    {
     "name": "stdout",
     "output_type": "stream",
     "text": [
      "[1, 2, 3, 4, 123, [21, 31, 41]]\n"
     ]
    }
   ],
   "source": [
    "my_list_a.append(my_list_b) #appending an array to another array \n",
    "print(my_list_a)\n",
    "#just takes the whole array and adds it to the first array"
   ]
  },
  {
   "cell_type": "code",
   "execution_count": 37,
   "id": "7e5c1041",
   "metadata": {},
   "outputs": [],
   "source": [
    "my_list_a.extend(my_list_b) #this will just include all the numbers from list b to list a and won't just add it with the brackets\n",
    "# flatten two arrays, use .extend() NOT .append()"
   ]
  },
  {
   "cell_type": "code",
   "execution_count": 38,
   "id": "0e7262ba",
   "metadata": {},
   "outputs": [
    {
     "name": "stdout",
     "output_type": "stream",
     "text": [
      "[1, 2, 3, 21, 31, 41]\n"
     ]
    }
   ],
   "source": [
    "print(my_list_a)"
   ]
  },
  {
   "cell_type": "code",
   "execution_count": 42,
   "id": "022a1727",
   "metadata": {},
   "outputs": [
    {
     "name": "stdout",
     "output_type": "stream",
     "text": [
      "['the', 'cat', 'ran', 'up', 'the', 'hill']\n"
     ]
    }
   ],
   "source": [
    "my_ex_str = \"the cat ran up the hill\"\n",
    "#tokenize the text above aka split the text based off something (like spaces)\n",
    "tokenize_text = my_ex_str.split()\n",
    "#This will split the text into an array with all the words\n",
    "print(tokenize_text)"
   ]
  },
  {
   "cell_type": "code",
   "execution_count": 46,
   "id": "3a2113c5",
   "metadata": {},
   "outputs": [
    {
     "name": "stdout",
     "output_type": "stream",
     "text": [
      "['the', 'cat', 'ran', 'up', 'the', 'hill']\n"
     ]
    }
   ],
   "source": [
    "my_ex_str =\"the,cat,ran,up,the,hill\"\n",
    "print(my_ex_str.split(\",\")) #this will split it based off \",\"\n",
    "my_ar = my_ex_str.split(\",\")"
   ]
  },
  {
   "cell_type": "code",
   "execution_count": 47,
   "id": "4a66f8df",
   "metadata": {},
   "outputs": [
    {
     "name": "stdout",
     "output_type": "stream",
     "text": [
      "the cat ran up the hill\n"
     ]
    }
   ],
   "source": [
    "#Join text together\n",
    "my_join = ' '.join(my_ar) #you can join it with anything (like \",\")\n",
    "print(my_join)"
   ]
  },
  {
   "cell_type": "code",
   "execution_count": 51,
   "id": "d213ed74",
   "metadata": {},
   "outputs": [
    {
     "name": "stdout",
     "output_type": "stream",
     "text": [
      "{'shreyans', 'Shreyans'}\n"
     ]
    }
   ],
   "source": [
    "#Data Structure Types- Set\n",
    "#no matter how many types you put in a value (ex: \"Shreyans\"), it only shows up once in a set\n",
    "\n",
    "#two ways to create a set\n",
    "my_set = {}\n",
    "my_set = set()\n",
    "my_set.add(\"shreyans\") #Add stuff to a set\n",
    "my_set.add(\"shreyans\") #adding again to see if it shows up more than once (it doesn't)\n",
    "my_set.add(\"Shreyans\") #Python is case sensitive\n",
    "print(my_set)"
   ]
  },
  {
   "cell_type": "code",
   "execution_count": 52,
   "id": "c56d909c",
   "metadata": {},
   "outputs": [],
   "source": [
    "#Set logic --> prof uses it to create user personas at Publicis Media\n",
    "\n",
    "my_set_a = {\"fishing\", \"soccer\", \"20-24\", \"audi\"}\n",
    "my_set_b = {\"hunting\", \"soccer\", \"65+\", \"volvo\"}"
   ]
  },
  {
   "cell_type": "code",
   "execution_count": 54,
   "id": "42a90e17",
   "metadata": {},
   "outputs": [
    {
     "name": "stdout",
     "output_type": "stream",
     "text": [
      "{'soccer', 'hunting', 'volvo', '65+'}\n"
     ]
    }
   ],
   "source": [
    "print(my_set_b)"
   ]
  },
  {
   "cell_type": "code",
   "execution_count": 55,
   "id": "2340e7df",
   "metadata": {},
   "outputs": [
    {
     "name": "stdout",
     "output_type": "stream",
     "text": [
      "{'soccer'}\n"
     ]
    }
   ],
   "source": [
    "#intersection of the two sets\n",
    "my_intersection = my_set_a.intersection(my_set_b) \n",
    "print(my_intersection)"
   ]
  },
  {
   "cell_type": "code",
   "execution_count": 56,
   "id": "90a08895",
   "metadata": {},
   "outputs": [
    {
     "name": "stdout",
     "output_type": "stream",
     "text": [
      "{'volvo', 'audi', 'fishing', 'soccer', 'hunting', '20-24', '65+'}\n"
     ]
    }
   ],
   "source": [
    "#union of the two sets\n",
    "my_union = my_set_a.union(my_set_b) \n",
    "print(my_union)"
   ]
  },
  {
   "cell_type": "code",
   "execution_count": 58,
   "id": "0070a584",
   "metadata": {},
   "outputs": [
    {
     "name": "stdout",
     "output_type": "stream",
     "text": [
      "{'fishing', 'audi', '20-24'}\n",
      "{'hunting', 'volvo', '65+'}\n"
     ]
    }
   ],
   "source": [
    "#difference of the two sets -- ORDERING HERE MATTERS\n",
    "print(my_set_a.difference(my_set_b)) #What does a have that b doesn't\n",
    "print(my_set_b.difference(my_set_a)) #What does b have that a doesn't"
   ]
  },
  {
   "cell_type": "code",
   "execution_count": 60,
   "id": "9cfbb387",
   "metadata": {},
   "outputs": [
    {
     "name": "stdout",
     "output_type": "stream",
     "text": [
      "{'volvo', 'audi', 'fishing', 'hunting', '20-24', '65+'}\n"
     ]
    }
   ],
   "source": [
    "#Symmetric Difference -- ORDERING DOESN'T MATTER\n",
    "print(my_set_a.symmetric_difference(my_set_b)) #what they don't share"
   ]
  },
  {
   "cell_type": "code",
   "execution_count": 61,
   "id": "bed34161",
   "metadata": {},
   "outputs": [
    {
     "name": "stdout",
     "output_type": "stream",
     "text": [
      "[1, 1, 4, 5, 6, 7, 10, 10]\n"
     ]
    }
   ],
   "source": [
    "my_list_conv =[1, 1, 4, 5, 6, 7, 10, 10]\n",
    "print(my_list_conv)"
   ]
  },
  {
   "cell_type": "code",
   "execution_count": 63,
   "id": "6ec643bf",
   "metadata": {},
   "outputs": [
    {
     "name": "stdout",
     "output_type": "stream",
     "text": [
      "{1, 4, 5, 6, 7, 10}\n"
     ]
    }
   ],
   "source": [
    "my_list_conv_set = set(my_list_conv) #converts list to set + removes duplication\n",
    "print(my_list_conv_set)"
   ]
  },
  {
   "cell_type": "code",
   "execution_count": 65,
   "id": "395f5dc6",
   "metadata": {},
   "outputs": [
    {
     "name": "stdout",
     "output_type": "stream",
     "text": [
      "the cat chase the dog up the hill\n"
     ]
    }
   ],
   "source": [
    "my_str_ex = \"The CAT chase the Dog up the hill\"\n",
    "#to turn everything into lowercase\n",
    "print(my_str_ex.lower())"
   ]
  },
  {
   "cell_type": "code",
   "execution_count": 66,
   "id": "c40ab9c8",
   "metadata": {},
   "outputs": [
    {
     "name": "stdout",
     "output_type": "stream",
     "text": [
      "THE CAT CHASE THE DOG UP THE HILL\n"
     ]
    }
   ],
   "source": [
    "#to turn everything into uppercase\n",
    "print(my_str_ex.upper())"
   ]
  },
  {
   "cell_type": "code",
   "execution_count": null,
   "id": "ed2d8e8b",
   "metadata": {},
   "outputs": [],
   "source": [
    "# Difference between Set and list: can only have unique characters in sets but it is case sensitive"
   ]
  }
 ],
 "metadata": {
  "kernelspec": {
   "display_name": "Python 3",
   "language": "python",
   "name": "python3"
  },
  "language_info": {
   "codemirror_mode": {
    "name": "ipython",
    "version": 3
   },
   "file_extension": ".py",
   "mimetype": "text/x-python",
   "name": "python",
   "nbconvert_exporter": "python",
   "pygments_lexer": "ipython3",
   "version": "3.8.8"
  }
 },
 "nbformat": 4,
 "nbformat_minor": 5
}
