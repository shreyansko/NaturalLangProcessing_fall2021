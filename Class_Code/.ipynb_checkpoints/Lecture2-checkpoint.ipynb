{
 "cells": [
  {
   "cell_type": "code",
   "execution_count": 1,
   "id": "1c5caea0",
   "metadata": {},
   "outputs": [],
   "source": [
    "#dictionary works off key, value pair\n",
    "my_dictionary = dict()\n"
   ]
  },
  {
   "cell_type": "code",
   "execution_count": 2,
   "id": "adabdd3b",
   "metadata": {},
   "outputs": [
    {
     "name": "stdout",
     "output_type": "stream",
     "text": [
      "<class 'dict'>\n"
     ]
    }
   ],
   "source": [
    "print(type(my_dictionary))\n"
   ]
  },
  {
   "cell_type": "code",
   "execution_count": 3,
   "id": "18d9a63e",
   "metadata": {},
   "outputs": [],
   "source": [
    "#Entering stuff in the dictionary:\n",
    "my_dictionary[\"key_a\"] = \"gr5067\""
   ]
  },
  {
   "cell_type": "code",
   "execution_count": 4,
   "id": "764bb335",
   "metadata": {},
   "outputs": [
    {
     "name": "stdout",
     "output_type": "stream",
     "text": [
      "{'key_a': 'gr5067'}\n"
     ]
    }
   ],
   "source": [
    "print(my_dictionary)"
   ]
  },
  {
   "cell_type": "code",
   "execution_count": 6,
   "id": "0b7c799e",
   "metadata": {},
   "outputs": [
    {
     "name": "stdout",
     "output_type": "stream",
     "text": [
      "{'key_a': 'Beeswax'}\n"
     ]
    }
   ],
   "source": [
    " #if we reassign something to key_a, it will overwrite it:\n",
    "my_dictionary[\"key_a\"] = \"Beeswax\"\n",
    "print(my_dictionary)"
   ]
  },
  {
   "cell_type": "code",
   "execution_count": 7,
   "id": "bcce65c4",
   "metadata": {},
   "outputs": [],
   "source": [
    "my_dictionary[\"key_b\"] = \"intel\""
   ]
  },
  {
   "cell_type": "code",
   "execution_count": 8,
   "id": "487572f0",
   "metadata": {},
   "outputs": [
    {
     "name": "stdout",
     "output_type": "stream",
     "text": [
      "{'key_a': 'Beeswax', 'key_b': 'intel'}\n"
     ]
    }
   ],
   "source": [
    "print(my_dictionary)"
   ]
  },
  {
   "cell_type": "code",
   "execution_count": 9,
   "id": "959130ad",
   "metadata": {},
   "outputs": [
    {
     "data": {
      "text/plain": [
       "2"
      ]
     },
     "execution_count": 9,
     "metadata": {},
     "output_type": "execute_result"
    }
   ],
   "source": [
    "len(my_dictionary)"
   ]
  },
  {
   "cell_type": "code",
   "execution_count": 10,
   "id": "4454c0db",
   "metadata": {},
   "outputs": [
    {
     "name": "stdout",
     "output_type": "stream",
     "text": [
      "dict_keys(['key_a', 'key_b'])\n"
     ]
    }
   ],
   "source": [
    "#retrieve keys\n",
    "the_keys = my_dictionary.keys()\n",
    "print(the_keys)"
   ]
  },
  {
   "cell_type": "code",
   "execution_count": 11,
   "id": "710c6566",
   "metadata": {},
   "outputs": [
    {
     "name": "stdout",
     "output_type": "stream",
     "text": [
      "dict_values(['Beeswax', 'intel'])\n"
     ]
    }
   ],
   "source": [
    "#retrieve values\n",
    "the_values = my_dictionary.values()\n",
    "print(the_values)"
   ]
  },
  {
   "cell_type": "code",
   "execution_count": 12,
   "id": "6d680a17",
   "metadata": {},
   "outputs": [
    {
     "name": "stdout",
     "output_type": "stream",
     "text": [
      "{'key_a': 'Beeswax', 'key_b': 'intel', 'key_c': [1, 5, 6, 7]}\n"
     ]
    }
   ],
   "source": [
    "#You can add any data structures to a dictionary\n",
    "my_dictionary[\"key_c\"] = [1, 5, 6, 7]\n",
    "print(my_dictionary)"
   ]
  },
  {
   "cell_type": "code",
   "execution_count": 14,
   "id": "1cf5c99c",
   "metadata": {},
   "outputs": [
    {
     "name": "stdout",
     "output_type": "stream",
     "text": [
      "3\n"
     ]
    }
   ],
   "source": [
    "print(len(my_dictionary))"
   ]
  },
  {
   "cell_type": "code",
   "execution_count": 15,
   "id": "739e4cd7",
   "metadata": {},
   "outputs": [],
   "source": [
    "#instantiate dictionary another way\n",
    "my_dictionary_ex = {\"a\": 1, \"b\": [5, 4, 6]}"
   ]
  },
  {
   "cell_type": "code",
   "execution_count": null,
   "id": "2c4e221d",
   "metadata": {},
   "outputs": [],
   "source": [
    "\"\"\"Loop Structure 1 \"\"\""
   ]
  },
  {
   "cell_type": "code",
   "execution_count": 16,
   "id": "d239bb2e",
   "metadata": {},
   "outputs": [
    {
     "name": "stdout",
     "output_type": "stream",
     "text": [
      "a\n",
      "g\n",
      "u\n",
      "z\n"
     ]
    }
   ],
   "source": [
    "##For loop\n",
    "a_list = [\"a\", \"g\", \"u\", \"z\"]\n",
    "for w in a_list:\n",
    "    print(w)"
   ]
  },
  {
   "cell_type": "code",
   "execution_count": 18,
   "id": "fc3fb2ac",
   "metadata": {},
   "outputs": [
    {
     "name": "stdout",
     "output_type": "stream",
     "text": [
      "['aed', 'ged', 'ued', 'zed']\n"
     ]
    }
   ],
   "source": [
    "#For loop 2\n",
    "a_list = [\"a\", \"g\", \"u\", \"z\"]\n",
    "new_list = list()\n",
    "for w in a_list:\n",
    "    new_list.append(w+\"ed\")\n",
    "print(new_list)"
   ]
  },
  {
   "cell_type": "code",
   "execution_count": 19,
   "id": "4547e644",
   "metadata": {},
   "outputs": [
    {
     "name": "stdout",
     "output_type": "stream",
     "text": [
      "['aed', 'ged', 'ued', 'zed']\n"
     ]
    }
   ],
   "source": [
    "#List comprehension\n",
    "a_list = [\"a\", \"g\", \"u\", \"z\"]\n",
    "new_list = [w+\"ed\" for w in a_list]\n",
    "print(new_list)"
   ]
  },
  {
   "cell_type": "code",
   "execution_count": 22,
   "id": "5e648f3a",
   "metadata": {},
   "outputs": [
    {
     "name": "stdout",
     "output_type": "stream",
     "text": [
      "{'a': 'aed', 'g': 'ged', 'u': 'ued', 'z': 'zed'}\n"
     ]
    }
   ],
   "source": [
    "#Adding new stuff to dictionary\n",
    "a_list = [\"a\", \"g\", \"u\", \"z\"]\n",
    "new_dictionary = {w:w+\"ed\" for w in a_list}\n",
    "print(new_dictionary)"
   ]
  },
  {
   "cell_type": "code",
   "execution_count": 23,
   "id": "00e24616",
   "metadata": {},
   "outputs": [
    {
     "name": "stdout",
     "output_type": "stream",
     "text": [
      "0\n",
      "1\n",
      "2\n",
      "3\n",
      "4\n",
      "5\n",
      "6\n",
      "7\n",
      "8\n",
      "9\n"
     ]
    }
   ],
   "source": [
    "#For loop 3: Range\n",
    "for i in range(0,10):\n",
    "    print(i)"
   ]
  },
  {
   "cell_type": "code",
   "execution_count": 24,
   "id": "b76566ee",
   "metadata": {},
   "outputs": [
    {
     "data": {
      "text/plain": [
       "'Loop Structure 2 '"
      ]
     },
     "execution_count": 24,
     "metadata": {},
     "output_type": "execute_result"
    }
   ],
   "source": [
    "\"\"\"Loop Structure 2 \"\"\""
   ]
  },
  {
   "cell_type": "code",
   "execution_count": 25,
   "id": "2353f0d5",
   "metadata": {},
   "outputs": [
    {
     "name": "stdout",
     "output_type": "stream",
     "text": [
      "0\n",
      "1\n",
      "2\n",
      "3\n",
      "4\n",
      "5\n",
      "6\n",
      "7\n",
      "8\n",
      "9\n"
     ]
    }
   ],
   "source": [
    "#while loop 1\n",
    "cnt = 0\n",
    "while cnt <10:\n",
    "    print(cnt)\n",
    "    cnt += 1\n",
    "    #this is equal to cnt = cnt +1"
   ]
  },
  {
   "cell_type": "code",
   "execution_count": 26,
   "id": "a9102de2",
   "metadata": {},
   "outputs": [
    {
     "name": "stdout",
     "output_type": "stream",
     "text": [
      "COMPLETED\n"
     ]
    }
   ],
   "source": [
    "\"\"\"Creating a function\"\"\"\n",
    "def math_fun():\n",
    "    print(\"COMPLETED\")\n",
    "    \n",
    "math_fun()"
   ]
  },
  {
   "cell_type": "code",
   "execution_count": 27,
   "id": "97cf171a",
   "metadata": {},
   "outputs": [],
   "source": [
    "#adder\n",
    "def math_fun_func(a, b):\n",
    "    tmp = a + b\n",
    "    return tmp"
   ]
  },
  {
   "cell_type": "code",
   "execution_count": 33,
   "id": "feb257fb",
   "metadata": {},
   "outputs": [
    {
     "name": "stdout",
     "output_type": "stream",
     "text": [
      "1000\n"
     ]
    }
   ],
   "source": [
    "a = math_fun_func(105, 895)\n",
    "print(a)"
   ]
  },
  {
   "cell_type": "code",
   "execution_count": 37,
   "id": "f11a0479",
   "metadata": {},
   "outputs": [
    {
     "name": "stdout",
     "output_type": "stream",
     "text": [
      "whatever\n"
     ]
    }
   ],
   "source": [
    "#boolean logic\n",
    "\n",
    "#If elif else\n",
    "a = 1\n",
    "b = 5\n",
    "c = 10\n",
    "\n",
    "if a < 0:\n",
    "    print(\"yeah\")\n",
    "elif b >3:\n",
    "    print(\"whatever\")\n",
    "elif c == 10:\n",
    "    print(\"Dsdsd\")"
   ]
  },
  {
   "cell_type": "code",
   "execution_count": 38,
   "id": "057dac41",
   "metadata": {},
   "outputs": [
    {
     "name": "stdout",
     "output_type": "stream",
     "text": [
      "whatever\n",
      "Dsdsd\n"
     ]
    }
   ],
   "source": [
    "if a < 0:\n",
    "    print(\"yeah\")\n",
    "if b >3:\n",
    "    print(\"whatever\")\n",
    "if c == 10:\n",
    "    print(\"Dsdsd\")"
   ]
  },
  {
   "cell_type": "code",
   "execution_count": 39,
   "id": "9a8e1ad3",
   "metadata": {},
   "outputs": [
    {
     "name": "stdout",
     "output_type": "stream",
     "text": [
      "Oh No, no worries\n"
     ]
    }
   ],
   "source": [
    "if a < 0:\n",
    "    print(\"yeah\")\n",
    "else:\n",
    "    print(\"Oh No, no worries\")"
   ]
  },
  {
   "cell_type": "code",
   "execution_count": 40,
   "id": "78f82f6a",
   "metadata": {},
   "outputs": [
    {
     "data": {
      "text/plain": [
       "True"
      ]
     },
     "execution_count": 40,
     "metadata": {},
     "output_type": "execute_result"
    }
   ],
   "source": [
    "a == a"
   ]
  },
  {
   "cell_type": "code",
   "execution_count": 41,
   "id": "4c7f616e",
   "metadata": {},
   "outputs": [
    {
     "data": {
      "text/plain": [
       "False"
      ]
     },
     "execution_count": 41,
     "metadata": {},
     "output_type": "execute_result"
    }
   ],
   "source": [
    "a != a"
   ]
  },
  {
   "cell_type": "code",
   "execution_count": 46,
   "id": "5517925a",
   "metadata": {},
   "outputs": [
    {
     "data": {
      "text/plain": [
       "True"
      ]
     },
     "execution_count": 46,
     "metadata": {},
     "output_type": "execute_result"
    }
   ],
   "source": [
    "type(1) == int == type(5)"
   ]
  },
  {
   "cell_type": "code",
   "execution_count": 76,
   "id": "1f976579",
   "metadata": {},
   "outputs": [],
   "source": [
    "#validate the input and make sure they are integers otherwise inform users to enter an interger only\n",
    "def int_only(a, b):\n",
    "    if (type(a) == int) and (type(b) == int):\n",
    "        tmp = a + b\n",
    "        return tmp\n",
    "    else:\n",
    "        print(\"enter an integer only\")"
   ]
  },
  {
   "cell_type": "code",
   "execution_count": 81,
   "id": "faf21867",
   "metadata": {},
   "outputs": [
    {
     "name": "stdout",
     "output_type": "stream",
     "text": [
      "enter an integer only\n",
      "5\n"
     ]
    }
   ],
   "source": [
    "int_only(1, \"z\")"
   ]
  },
  {
   "cell_type": "code",
   "execution_count": 82,
   "id": "5b5c555e",
   "metadata": {},
   "outputs": [],
   "source": [
    "#Pandas library\n",
    "import pandas as pd"
   ]
  },
  {
   "cell_type": "code",
   "execution_count": 110,
   "id": "639f149d",
   "metadata": {},
   "outputs": [
    {
     "name": "stdout",
     "output_type": "stream",
     "text": [
      "Empty DataFrame\n",
      "Columns: []\n",
      "Index: []\n"
     ]
    }
   ],
   "source": [
    "my_pd = pd.DataFrame()\n",
    "print(my_pd)"
   ]
  },
  {
   "cell_type": "code",
   "execution_count": 122,
   "id": "90296260",
   "metadata": {},
   "outputs": [],
   "source": [
    "cnt = 0\n",
    "while cnt <10:\n",
    "    my_pd = my_pd.append({\"a\": cnt, \"b\": cnt-1}, ignore_index = True)\n",
    "    cnt +=1"
   ]
  },
  {
   "cell_type": "code",
   "execution_count": 123,
   "id": "3474dc15",
   "metadata": {},
   "outputs": [
    {
     "data": {
      "text/html": [
       "<div>\n",
       "<style scoped>\n",
       "    .dataframe tbody tr th:only-of-type {\n",
       "        vertical-align: middle;\n",
       "    }\n",
       "\n",
       "    .dataframe tbody tr th {\n",
       "        vertical-align: top;\n",
       "    }\n",
       "\n",
       "    .dataframe thead th {\n",
       "        text-align: right;\n",
       "    }\n",
       "</style>\n",
       "<table border=\"1\" class=\"dataframe\">\n",
       "  <thead>\n",
       "    <tr style=\"text-align: right;\">\n",
       "      <th></th>\n",
       "      <th>a</th>\n",
       "      <th>b</th>\n",
       "    </tr>\n",
       "  </thead>\n",
       "  <tbody>\n",
       "    <tr>\n",
       "      <th>0</th>\n",
       "      <td>0.0</td>\n",
       "      <td>-1.0</td>\n",
       "    </tr>\n",
       "    <tr>\n",
       "      <th>1</th>\n",
       "      <td>1.0</td>\n",
       "      <td>0.0</td>\n",
       "    </tr>\n",
       "    <tr>\n",
       "      <th>2</th>\n",
       "      <td>2.0</td>\n",
       "      <td>1.0</td>\n",
       "    </tr>\n",
       "    <tr>\n",
       "      <th>3</th>\n",
       "      <td>3.0</td>\n",
       "      <td>2.0</td>\n",
       "    </tr>\n",
       "    <tr>\n",
       "      <th>4</th>\n",
       "      <td>4.0</td>\n",
       "      <td>3.0</td>\n",
       "    </tr>\n",
       "    <tr>\n",
       "      <th>5</th>\n",
       "      <td>5.0</td>\n",
       "      <td>4.0</td>\n",
       "    </tr>\n",
       "    <tr>\n",
       "      <th>6</th>\n",
       "      <td>6.0</td>\n",
       "      <td>5.0</td>\n",
       "    </tr>\n",
       "    <tr>\n",
       "      <th>7</th>\n",
       "      <td>7.0</td>\n",
       "      <td>6.0</td>\n",
       "    </tr>\n",
       "    <tr>\n",
       "      <th>8</th>\n",
       "      <td>8.0</td>\n",
       "      <td>7.0</td>\n",
       "    </tr>\n",
       "    <tr>\n",
       "      <th>9</th>\n",
       "      <td>9.0</td>\n",
       "      <td>8.0</td>\n",
       "    </tr>\n",
       "  </tbody>\n",
       "</table>\n",
       "</div>"
      ],
      "text/plain": [
       "     a    b\n",
       "0  0.0 -1.0\n",
       "1  1.0  0.0\n",
       "2  2.0  1.0\n",
       "3  3.0  2.0\n",
       "4  4.0  3.0\n",
       "5  5.0  4.0\n",
       "6  6.0  5.0\n",
       "7  7.0  6.0\n",
       "8  8.0  7.0\n",
       "9  9.0  8.0"
      ]
     },
     "execution_count": 123,
     "metadata": {},
     "output_type": "execute_result"
    }
   ],
   "source": [
    "my_pd"
   ]
  },
  {
   "cell_type": "code",
   "execution_count": 91,
   "id": "71bc8e79",
   "metadata": {},
   "outputs": [
    {
     "data": {
      "text/html": [
       "<div>\n",
       "<style scoped>\n",
       "    .dataframe tbody tr th:only-of-type {\n",
       "        vertical-align: middle;\n",
       "    }\n",
       "\n",
       "    .dataframe tbody tr th {\n",
       "        vertical-align: top;\n",
       "    }\n",
       "\n",
       "    .dataframe thead th {\n",
       "        text-align: right;\n",
       "    }\n",
       "</style>\n",
       "<table border=\"1\" class=\"dataframe\">\n",
       "  <thead>\n",
       "    <tr style=\"text-align: right;\">\n",
       "      <th></th>\n",
       "      <th>a</th>\n",
       "      <th>b</th>\n",
       "    </tr>\n",
       "  </thead>\n",
       "  <tbody>\n",
       "    <tr>\n",
       "      <th>9</th>\n",
       "      <td>9.0</td>\n",
       "      <td>8.0</td>\n",
       "    </tr>\n",
       "  </tbody>\n",
       "</table>\n",
       "</div>"
      ],
      "text/plain": [
       "     a    b\n",
       "9  9.0  8.0"
      ]
     },
     "execution_count": 91,
     "metadata": {},
     "output_type": "execute_result"
    }
   ],
   "source": [
    "my_pd.tail(1)"
   ]
  },
  {
   "cell_type": "code",
   "execution_count": 92,
   "id": "3674fde8",
   "metadata": {},
   "outputs": [
    {
     "data": {
      "text/html": [
       "<div>\n",
       "<style scoped>\n",
       "    .dataframe tbody tr th:only-of-type {\n",
       "        vertical-align: middle;\n",
       "    }\n",
       "\n",
       "    .dataframe tbody tr th {\n",
       "        vertical-align: top;\n",
       "    }\n",
       "\n",
       "    .dataframe thead th {\n",
       "        text-align: right;\n",
       "    }\n",
       "</style>\n",
       "<table border=\"1\" class=\"dataframe\">\n",
       "  <thead>\n",
       "    <tr style=\"text-align: right;\">\n",
       "      <th></th>\n",
       "      <th>a</th>\n",
       "      <th>b</th>\n",
       "    </tr>\n",
       "  </thead>\n",
       "  <tbody>\n",
       "    <tr>\n",
       "      <th>count</th>\n",
       "      <td>10.00000</td>\n",
       "      <td>10.00000</td>\n",
       "    </tr>\n",
       "    <tr>\n",
       "      <th>mean</th>\n",
       "      <td>4.50000</td>\n",
       "      <td>3.50000</td>\n",
       "    </tr>\n",
       "    <tr>\n",
       "      <th>std</th>\n",
       "      <td>3.02765</td>\n",
       "      <td>3.02765</td>\n",
       "    </tr>\n",
       "    <tr>\n",
       "      <th>min</th>\n",
       "      <td>0.00000</td>\n",
       "      <td>-1.00000</td>\n",
       "    </tr>\n",
       "    <tr>\n",
       "      <th>25%</th>\n",
       "      <td>2.25000</td>\n",
       "      <td>1.25000</td>\n",
       "    </tr>\n",
       "    <tr>\n",
       "      <th>50%</th>\n",
       "      <td>4.50000</td>\n",
       "      <td>3.50000</td>\n",
       "    </tr>\n",
       "    <tr>\n",
       "      <th>75%</th>\n",
       "      <td>6.75000</td>\n",
       "      <td>5.75000</td>\n",
       "    </tr>\n",
       "    <tr>\n",
       "      <th>max</th>\n",
       "      <td>9.00000</td>\n",
       "      <td>8.00000</td>\n",
       "    </tr>\n",
       "  </tbody>\n",
       "</table>\n",
       "</div>"
      ],
      "text/plain": [
       "              a         b\n",
       "count  10.00000  10.00000\n",
       "mean    4.50000   3.50000\n",
       "std     3.02765   3.02765\n",
       "min     0.00000  -1.00000\n",
       "25%     2.25000   1.25000\n",
       "50%     4.50000   3.50000\n",
       "75%     6.75000   5.75000\n",
       "max     9.00000   8.00000"
      ]
     },
     "execution_count": 92,
     "metadata": {},
     "output_type": "execute_result"
    }
   ],
   "source": [
    "#gives you summary statistics of the data frame\n",
    "my_pd.describe()"
   ]
  },
  {
   "cell_type": "code",
   "execution_count": 108,
   "id": "22869a31",
   "metadata": {},
   "outputs": [],
   "source": [
    "my_pd_a = pd.DataFrame()\n",
    "cnt = 0\n",
    "while cnt <10:\n",
    "    my_pd_a = my_pd_a.append({\"a\": cnt, \"b\": cnt-1, \"c\": cnt*2}, ignore_index = True)\n",
    "    cnt +=1"
   ]
  },
  {
   "cell_type": "code",
   "execution_count": 109,
   "id": "f8b41457",
   "metadata": {},
   "outputs": [
    {
     "data": {
      "text/html": [
       "<div>\n",
       "<style scoped>\n",
       "    .dataframe tbody tr th:only-of-type {\n",
       "        vertical-align: middle;\n",
       "    }\n",
       "\n",
       "    .dataframe tbody tr th {\n",
       "        vertical-align: top;\n",
       "    }\n",
       "\n",
       "    .dataframe thead th {\n",
       "        text-align: right;\n",
       "    }\n",
       "</style>\n",
       "<table border=\"1\" class=\"dataframe\">\n",
       "  <thead>\n",
       "    <tr style=\"text-align: right;\">\n",
       "      <th></th>\n",
       "      <th>a</th>\n",
       "      <th>b</th>\n",
       "      <th>c</th>\n",
       "    </tr>\n",
       "  </thead>\n",
       "  <tbody>\n",
       "    <tr>\n",
       "      <th>0</th>\n",
       "      <td>0.0</td>\n",
       "      <td>-1.0</td>\n",
       "      <td>0.0</td>\n",
       "    </tr>\n",
       "    <tr>\n",
       "      <th>1</th>\n",
       "      <td>1.0</td>\n",
       "      <td>0.0</td>\n",
       "      <td>2.0</td>\n",
       "    </tr>\n",
       "    <tr>\n",
       "      <th>2</th>\n",
       "      <td>2.0</td>\n",
       "      <td>1.0</td>\n",
       "      <td>4.0</td>\n",
       "    </tr>\n",
       "    <tr>\n",
       "      <th>3</th>\n",
       "      <td>3.0</td>\n",
       "      <td>2.0</td>\n",
       "      <td>6.0</td>\n",
       "    </tr>\n",
       "    <tr>\n",
       "      <th>4</th>\n",
       "      <td>4.0</td>\n",
       "      <td>3.0</td>\n",
       "      <td>8.0</td>\n",
       "    </tr>\n",
       "  </tbody>\n",
       "</table>\n",
       "</div>"
      ],
      "text/plain": [
       "     a    b    c\n",
       "0  0.0 -1.0  0.0\n",
       "1  1.0  0.0  2.0\n",
       "2  2.0  1.0  4.0\n",
       "3  3.0  2.0  6.0\n",
       "4  4.0  3.0  8.0"
      ]
     },
     "execution_count": 109,
     "metadata": {},
     "output_type": "execute_result"
    }
   ],
   "source": [
    "my_pd_a.head()"
   ]
  },
  {
   "cell_type": "code",
   "execution_count": 118,
   "id": "36c1b0fb",
   "metadata": {},
   "outputs": [
    {
     "data": {
      "text/html": [
       "<div>\n",
       "<style scoped>\n",
       "    .dataframe tbody tr th:only-of-type {\n",
       "        vertical-align: middle;\n",
       "    }\n",
       "\n",
       "    .dataframe tbody tr th {\n",
       "        vertical-align: top;\n",
       "    }\n",
       "\n",
       "    .dataframe thead th {\n",
       "        text-align: right;\n",
       "    }\n",
       "</style>\n",
       "<table border=\"1\" class=\"dataframe\">\n",
       "  <thead>\n",
       "    <tr style=\"text-align: right;\">\n",
       "      <th></th>\n",
       "      <th>a</th>\n",
       "      <th>c</th>\n",
       "    </tr>\n",
       "  </thead>\n",
       "  <tbody>\n",
       "    <tr>\n",
       "      <th>0</th>\n",
       "      <td>0.0</td>\n",
       "      <td>0.0</td>\n",
       "    </tr>\n",
       "    <tr>\n",
       "      <th>1</th>\n",
       "      <td>1.0</td>\n",
       "      <td>2.0</td>\n",
       "    </tr>\n",
       "    <tr>\n",
       "      <th>2</th>\n",
       "      <td>2.0</td>\n",
       "      <td>4.0</td>\n",
       "    </tr>\n",
       "    <tr>\n",
       "      <th>3</th>\n",
       "      <td>3.0</td>\n",
       "      <td>6.0</td>\n",
       "    </tr>\n",
       "    <tr>\n",
       "      <th>4</th>\n",
       "      <td>4.0</td>\n",
       "      <td>8.0</td>\n",
       "    </tr>\n",
       "    <tr>\n",
       "      <th>5</th>\n",
       "      <td>5.0</td>\n",
       "      <td>10.0</td>\n",
       "    </tr>\n",
       "    <tr>\n",
       "      <th>6</th>\n",
       "      <td>6.0</td>\n",
       "      <td>12.0</td>\n",
       "    </tr>\n",
       "    <tr>\n",
       "      <th>7</th>\n",
       "      <td>7.0</td>\n",
       "      <td>14.0</td>\n",
       "    </tr>\n",
       "    <tr>\n",
       "      <th>8</th>\n",
       "      <td>8.0</td>\n",
       "      <td>16.0</td>\n",
       "    </tr>\n",
       "    <tr>\n",
       "      <th>9</th>\n",
       "      <td>9.0</td>\n",
       "      <td>18.0</td>\n",
       "    </tr>\n",
       "  </tbody>\n",
       "</table>\n",
       "</div>"
      ],
      "text/plain": [
       "     a     c\n",
       "0  0.0   0.0\n",
       "1  1.0   2.0\n",
       "2  2.0   4.0\n",
       "3  3.0   6.0\n",
       "4  4.0   8.0\n",
       "5  5.0  10.0\n",
       "6  6.0  12.0\n",
       "7  7.0  14.0\n",
       "8  8.0  16.0\n",
       "9  9.0  18.0"
      ]
     },
     "execution_count": 118,
     "metadata": {},
     "output_type": "execute_result"
    }
   ],
   "source": [
    "#to grab multiple columns at the same time\n",
    "my_pd_a[[\"a\", \"c\"]]"
   ]
  },
  {
   "cell_type": "code",
   "execution_count": 106,
   "id": "e28a2f02",
   "metadata": {},
   "outputs": [
    {
     "data": {
      "text/plain": [
       "'concatenate'"
      ]
     },
     "execution_count": 106,
     "metadata": {},
     "output_type": "execute_result"
    }
   ],
   "source": [
    "\"\"\"concatenate\"\"\" "
   ]
  },
  {
   "cell_type": "code",
   "execution_count": 124,
   "id": "43eeb2d5",
   "metadata": {},
   "outputs": [],
   "source": [
    "my_new_pd = pd.concat([my_pd, my_pd_a], axis = 1)"
   ]
  },
  {
   "cell_type": "code",
   "execution_count": 132,
   "id": "c8523713",
   "metadata": {},
   "outputs": [
    {
     "data": {
      "text/html": [
       "<div>\n",
       "<style scoped>\n",
       "    .dataframe tbody tr th:only-of-type {\n",
       "        vertical-align: middle;\n",
       "    }\n",
       "\n",
       "    .dataframe tbody tr th {\n",
       "        vertical-align: top;\n",
       "    }\n",
       "\n",
       "    .dataframe thead th {\n",
       "        text-align: right;\n",
       "    }\n",
       "</style>\n",
       "<table border=\"1\" class=\"dataframe\">\n",
       "  <thead>\n",
       "    <tr style=\"text-align: right;\">\n",
       "      <th></th>\n",
       "      <th>a</th>\n",
       "      <th>b</th>\n",
       "      <th>a</th>\n",
       "      <th>b</th>\n",
       "      <th>c</th>\n",
       "    </tr>\n",
       "  </thead>\n",
       "  <tbody>\n",
       "    <tr>\n",
       "      <th>0</th>\n",
       "      <td>0.0</td>\n",
       "      <td>-1.0</td>\n",
       "      <td>0.0</td>\n",
       "      <td>-1.0</td>\n",
       "      <td>0.0</td>\n",
       "    </tr>\n",
       "    <tr>\n",
       "      <th>1</th>\n",
       "      <td>1.0</td>\n",
       "      <td>0.0</td>\n",
       "      <td>1.0</td>\n",
       "      <td>0.0</td>\n",
       "      <td>2.0</td>\n",
       "    </tr>\n",
       "    <tr>\n",
       "      <th>2</th>\n",
       "      <td>2.0</td>\n",
       "      <td>1.0</td>\n",
       "      <td>2.0</td>\n",
       "      <td>1.0</td>\n",
       "      <td>4.0</td>\n",
       "    </tr>\n",
       "    <tr>\n",
       "      <th>3</th>\n",
       "      <td>3.0</td>\n",
       "      <td>2.0</td>\n",
       "      <td>3.0</td>\n",
       "      <td>2.0</td>\n",
       "      <td>6.0</td>\n",
       "    </tr>\n",
       "    <tr>\n",
       "      <th>4</th>\n",
       "      <td>4.0</td>\n",
       "      <td>3.0</td>\n",
       "      <td>4.0</td>\n",
       "      <td>3.0</td>\n",
       "      <td>8.0</td>\n",
       "    </tr>\n",
       "    <tr>\n",
       "      <th>5</th>\n",
       "      <td>5.0</td>\n",
       "      <td>4.0</td>\n",
       "      <td>5.0</td>\n",
       "      <td>4.0</td>\n",
       "      <td>10.0</td>\n",
       "    </tr>\n",
       "    <tr>\n",
       "      <th>6</th>\n",
       "      <td>6.0</td>\n",
       "      <td>5.0</td>\n",
       "      <td>6.0</td>\n",
       "      <td>5.0</td>\n",
       "      <td>12.0</td>\n",
       "    </tr>\n",
       "    <tr>\n",
       "      <th>7</th>\n",
       "      <td>7.0</td>\n",
       "      <td>6.0</td>\n",
       "      <td>7.0</td>\n",
       "      <td>6.0</td>\n",
       "      <td>14.0</td>\n",
       "    </tr>\n",
       "    <tr>\n",
       "      <th>8</th>\n",
       "      <td>8.0</td>\n",
       "      <td>7.0</td>\n",
       "      <td>8.0</td>\n",
       "      <td>7.0</td>\n",
       "      <td>16.0</td>\n",
       "    </tr>\n",
       "    <tr>\n",
       "      <th>9</th>\n",
       "      <td>9.0</td>\n",
       "      <td>8.0</td>\n",
       "      <td>9.0</td>\n",
       "      <td>8.0</td>\n",
       "      <td>18.0</td>\n",
       "    </tr>\n",
       "  </tbody>\n",
       "</table>\n",
       "</div>"
      ],
      "text/plain": [
       "     a    b    a    b     c\n",
       "0  0.0 -1.0  0.0 -1.0   0.0\n",
       "1  1.0  0.0  1.0  0.0   2.0\n",
       "2  2.0  1.0  2.0  1.0   4.0\n",
       "3  3.0  2.0  3.0  2.0   6.0\n",
       "4  4.0  3.0  4.0  3.0   8.0\n",
       "5  5.0  4.0  5.0  4.0  10.0\n",
       "6  6.0  5.0  6.0  5.0  12.0\n",
       "7  7.0  6.0  7.0  6.0  14.0\n",
       "8  8.0  7.0  8.0  7.0  16.0\n",
       "9  9.0  8.0  9.0  8.0  18.0"
      ]
     },
     "execution_count": 132,
     "metadata": {},
     "output_type": "execute_result"
    }
   ],
   "source": [
    "my_new_pd"
   ]
  },
  {
   "cell_type": "code",
   "execution_count": 133,
   "id": "7700651e",
   "metadata": {},
   "outputs": [
    {
     "data": {
      "text/html": [
       "<div>\n",
       "<style scoped>\n",
       "    .dataframe tbody tr th:only-of-type {\n",
       "        vertical-align: middle;\n",
       "    }\n",
       "\n",
       "    .dataframe tbody tr th {\n",
       "        vertical-align: top;\n",
       "    }\n",
       "\n",
       "    .dataframe thead th {\n",
       "        text-align: right;\n",
       "    }\n",
       "</style>\n",
       "<table border=\"1\" class=\"dataframe\">\n",
       "  <thead>\n",
       "    <tr style=\"text-align: right;\">\n",
       "      <th></th>\n",
       "      <th>a</th>\n",
       "      <th>b</th>\n",
       "      <th>a</th>\n",
       "      <th>b</th>\n",
       "      <th>c</th>\n",
       "    </tr>\n",
       "  </thead>\n",
       "  <tbody>\n",
       "    <tr>\n",
       "      <th>2</th>\n",
       "      <td>2.0</td>\n",
       "      <td>1.0</td>\n",
       "      <td>2.0</td>\n",
       "      <td>1.0</td>\n",
       "      <td>4.0</td>\n",
       "    </tr>\n",
       "    <tr>\n",
       "      <th>3</th>\n",
       "      <td>3.0</td>\n",
       "      <td>2.0</td>\n",
       "      <td>3.0</td>\n",
       "      <td>2.0</td>\n",
       "      <td>6.0</td>\n",
       "    </tr>\n",
       "  </tbody>\n",
       "</table>\n",
       "</div>"
      ],
      "text/plain": [
       "     a    b    a    b    c\n",
       "2  2.0  1.0  2.0  1.0  4.0\n",
       "3  3.0  2.0  3.0  2.0  6.0"
      ]
     },
     "execution_count": 133,
     "metadata": {},
     "output_type": "execute_result"
    }
   ],
   "source": [
    "my_test_pd = my_new_pd[(my_new_pd.c > 2.0) & (my_new_pd.c <8.0)]\n",
    "#If you want to rewrite entries in a pandas data frame, you can use this:\n",
    "#my_new_pd[(my_new_pd.c > 2.0) & (my_new_pd.c <8.0)] = None\n",
    "my_test_pd"
   ]
  },
  {
   "cell_type": "code",
   "execution_count": 138,
   "id": "bdbe0bdf",
   "metadata": {},
   "outputs": [],
   "source": [
    "#converting pandas df to csv\n",
    "\"\"\"___________Creating CSV File_____________\"\"\"\n",
    "my_test_pd.to_csv(\"my_test.csv\", index =False)"
   ]
  },
  {
   "cell_type": "code",
   "execution_count": 139,
   "id": "ce590596",
   "metadata": {},
   "outputs": [
    {
     "data": {
      "text/plain": [
       "'___________Read CSV File_____________'"
      ]
     },
     "execution_count": 139,
     "metadata": {},
     "output_type": "execute_result"
    }
   ],
   "source": [
    "\"\"\"___________Read CSV File_____________\"\"\"\n",
    "# my_read_csv = pd.read_csv(\"abc.csv\")"
   ]
  },
  {
   "cell_type": "code",
   "execution_count": 165,
   "id": "dc1832d7",
   "metadata": {},
   "outputs": [
    {
     "name": "stdout",
     "output_type": "stream",
     "text": [
      "<_io.TextIOWrapper name='text.rtf' mode='r' encoding='UTF-8'>\n"
     ]
    }
   ],
   "source": [
    "#READ in a text file\n",
    "f = open(\"text.rtf\", \"r\")\n",
    "# r denotes read\n",
    "print(f)"
   ]
  },
  {
   "cell_type": "code",
   "execution_count": 151,
   "id": "cf292557",
   "metadata": {},
   "outputs": [
    {
     "data": {
      "text/plain": [
       "b'NLP is fun\\\\\\n'"
      ]
     },
     "execution_count": 151,
     "metadata": {},
     "output_type": "execute_result"
    }
   ],
   "source": [
    "#iterate line by line\n",
    "f.readline()"
   ]
  },
  {
   "cell_type": "code",
   "execution_count": 152,
   "id": "6cc91cc7",
   "metadata": {},
   "outputs": [],
   "source": [
    "f.close()"
   ]
  },
  {
   "cell_type": "code",
   "execution_count": 166,
   "id": "e2b9f4e4",
   "metadata": {},
   "outputs": [
    {
     "data": {
      "text/plain": [
       "'{\\\\rtf1\\\\ansi\\\\ansicpg1252\\\\cocoartf1671\\\\cocoasubrtf600\\n{\\\\fonttbl\\\\f0\\\\fswiss\\\\fcharset0 Helvetica;}\\n{\\\\colortbl;\\\\red255\\\\green255\\\\blue255;}\\n{\\\\*\\\\expandedcolortbl;;}\\n\\\\margl1440\\\\margr1440\\\\vieww25100\\\\viewh15200\\\\viewkind0\\n\\\\pard\\\\tx720\\\\tx1440\\\\tx2160\\\\tx2880\\\\tx3600\\\\tx4320\\\\tx5040\\\\tx5760\\\\tx6480\\\\tx7200\\\\tx7920\\\\tx8640\\\\pardirnatural\\\\partightenfactor0\\n\\n\\\\f0\\\\fs24 \\\\cf0 Hi\\\\\\n\\\\\\nNLP is fun\\\\\\nML too}'"
      ]
     },
     "execution_count": 166,
     "metadata": {},
     "output_type": "execute_result"
    }
   ],
   "source": [
    "f.read()"
   ]
  },
  {
   "cell_type": "code",
   "execution_count": 167,
   "id": "1c634b8b",
   "metadata": {},
   "outputs": [],
   "source": [
    "f.close()"
   ]
  },
  {
   "cell_type": "code",
   "execution_count": 176,
   "id": "2c1aaf76",
   "metadata": {},
   "outputs": [],
   "source": [
    "f = open(\"text.rtf\", \"r\")\n",
    "test = f.read()\n",
    "f.close()"
   ]
  },
  {
   "cell_type": "code",
   "execution_count": 184,
   "id": "b200c5d0",
   "metadata": {},
   "outputs": [],
   "source": [
    "my_str = \"Hi How are you??? \\n I am good, and you \\n\""
   ]
  },
  {
   "cell_type": "code",
   "execution_count": 185,
   "id": "c524e668",
   "metadata": {},
   "outputs": [],
   "source": [
    "#Open the file to write\n",
    "f = open(\"test.txt\", \"w\")\n",
    "# w denotes write"
   ]
  },
  {
   "cell_type": "code",
   "execution_count": 186,
   "id": "fdb155f5",
   "metadata": {},
   "outputs": [
    {
     "data": {
      "text/plain": [
       "40"
      ]
     },
     "execution_count": 186,
     "metadata": {},
     "output_type": "execute_result"
    }
   ],
   "source": [
    "#command to write\n",
    "f.write(my_str)"
   ]
  },
  {
   "cell_type": "code",
   "execution_count": 187,
   "id": "d59b9024",
   "metadata": {},
   "outputs": [],
   "source": [
    "f.close()"
   ]
  },
  {
   "cell_type": "code",
   "execution_count": 188,
   "id": "dc20155b",
   "metadata": {},
   "outputs": [],
   "source": [
    "my_str_1 = \"Hi How are you??? . I am good, and you \\n\""
   ]
  },
  {
   "cell_type": "code",
   "execution_count": 199,
   "id": "fe77765d",
   "metadata": {},
   "outputs": [
    {
     "name": "stdout",
     "output_type": "stream",
     "text": [
      "Hi How are you I am good and you \n"
     ]
    }
   ],
   "source": [
    "#regex: Regular Expressions\n",
    "import re\n",
    "\n",
    "#scans the entire text, finds what we want it to find and replaces it\n",
    "clean = re.sub('[^A-Za-z0-9]+', \" \", my_str_1) #replace everything that is not an alphabet and a number and replace it with a single space\n",
    "print(clean)"
   ]
  },
  {
   "cell_type": "code",
   "execution_count": null,
   "id": "0675f045",
   "metadata": {},
   "outputs": [],
   "source": []
  }
 ],
 "metadata": {
  "kernelspec": {
   "display_name": "Python 3",
   "language": "python",
   "name": "python3"
  },
  "language_info": {
   "codemirror_mode": {
    "name": "ipython",
    "version": 3
   },
   "file_extension": ".py",
   "mimetype": "text/x-python",
   "name": "python",
   "nbconvert_exporter": "python",
   "pygments_lexer": "ipython3",
   "version": "3.8.8"
  }
 },
 "nbformat": 4,
 "nbformat_minor": 5
}
