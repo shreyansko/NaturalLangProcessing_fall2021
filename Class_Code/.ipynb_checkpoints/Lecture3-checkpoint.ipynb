{
 "cells": [
  {
   "cell_type": "code",
   "execution_count": 132,
   "id": "d5ecc72d",
   "metadata": {},
   "outputs": [],
   "source": [
    "import re\n",
    "f = open(\"Lec3text.txt\", \"r\")\n",
    "test = f.read()\n",
    "type(test.split())\n",
    "f.close()"
   ]
  },
  {
   "cell_type": "code",
   "execution_count": null,
   "id": "947f3920",
   "metadata": {},
   "outputs": [],
   "source": [
    "\n",
    "#scans the entire text, finds what we want it to find and replaces it\n",
    "clean = re.sub('[^A-Za-z0-9]+', \" \", my_str_1) #replace everything that is not an alphabet and a number and replace it with a single space\n",
    "print(clean)"
   ]
  },
  {
   "cell_type": "code",
   "execution_count": 31,
   "id": "05ddd676",
   "metadata": {},
   "outputs": [],
   "source": [
    "def txt_read(a):\n",
    "    f = open(a, \"r\")\n",
    "    reader = f.read\n",
    "    with open(a) as b:\n",
    "        for line in b:\n",
    "            print(b)\n",
    "    f.close()"
   ]
  },
  {
   "cell_type": "code",
   "execution_count": 79,
   "id": "935c197e",
   "metadata": {},
   "outputs": [
    {
     "name": "stdout",
     "output_type": "stream",
     "text": [
      "<_io.TextIOWrapper name='Lec3text.txt' mode='r' encoding='UTF-8'>\n",
      "<_io.TextIOWrapper name='Lec3text.txt' mode='r' encoding='UTF-8'>\n",
      "<_io.TextIOWrapper name='Lec3text.txt' mode='r' encoding='UTF-8'>\n"
     ]
    }
   ],
   "source": [
    "txt_read(\"Lec3text.txt\")"
   ]
  },
  {
   "cell_type": "code",
   "execution_count": 53,
   "id": "5e8ec0db",
   "metadata": {},
   "outputs": [],
   "source": [
    "#In class exercise - Solution\n",
    "#reads in text file and returns a data frame with each row as each line\n",
    "def my_func(file_in):\n",
    "    import pandas as pd\n",
    "    my_pd = pd.DataFrame()\n",
    "    with open (file_in) as f:\n",
    "        for line in f:\n",
    "            my_pd = my_pd.append({\"body\":re.sub('[^A-Za-z0-9]+', \" \", line)}, ignore_index= True)\n",
    "        return my_pd"
   ]
  },
  {
   "cell_type": "code",
   "execution_count": 78,
   "id": "587aa3b2",
   "metadata": {},
   "outputs": [
    {
     "data": {
      "text/html": [
       "<div>\n",
       "<style scoped>\n",
       "    .dataframe tbody tr th:only-of-type {\n",
       "        vertical-align: middle;\n",
       "    }\n",
       "\n",
       "    .dataframe tbody tr th {\n",
       "        vertical-align: top;\n",
       "    }\n",
       "\n",
       "    .dataframe thead th {\n",
       "        text-align: right;\n",
       "    }\n",
       "</style>\n",
       "<table border=\"1\" class=\"dataframe\">\n",
       "  <thead>\n",
       "    <tr style=\"text-align: right;\">\n",
       "      <th></th>\n",
       "      <th>body</th>\n",
       "    </tr>\n",
       "  </thead>\n",
       "  <tbody>\n",
       "    <tr>\n",
       "      <th>0</th>\n",
       "      <td>Hello This class has faced a lot of technical ...</td>\n",
       "    </tr>\n",
       "    <tr>\n",
       "      <th>1</th>\n",
       "      <td>Very frustrating</td>\n",
       "    </tr>\n",
       "    <tr>\n",
       "      <th>2</th>\n",
       "      <td>Ugh</td>\n",
       "    </tr>\n",
       "  </tbody>\n",
       "</table>\n",
       "</div>"
      ],
      "text/plain": [
       "                                                body\n",
       "0  Hello This class has faced a lot of technical ...\n",
       "1                                  Very frustrating \n",
       "2                                               Ugh "
      ]
     },
     "execution_count": 78,
     "metadata": {},
     "output_type": "execute_result"
    }
   ],
   "source": [
    "my_test = my_func(\"Lec3text.txt\")\n",
    "my_test.tail()"
   ]
  },
  {
   "cell_type": "code",
   "execution_count": 82,
   "id": "cf01a146",
   "metadata": {},
   "outputs": [],
   "source": [
    "#In class exercise 2\n",
    "#reads in a text file and returns the text \n",
    "def my_func2(file_in):\n",
    "    import re\n",
    "    f = open(file_in, \"r\")\n",
    "    read = f.read()\n",
    "    clean = re.sub('[^A-Za-z0-9]+', \" \", read).strip() #.strip() removes extra spaces at the end\n",
    "    #line.strip(\"\\n\") takes out extra space at the end ONLY if you specify\n",
    "    return clean"
   ]
  },
  {
   "cell_type": "code",
   "execution_count": null,
   "id": "39e3ffc4",
   "metadata": {},
   "outputs": [],
   "source": [
    "#with f.read() you have to close the file with f.close() otherwise the file can be called to later on in the code\n",
    "\"\"\"\"#in  with open (file_in) as f:\n",
    "        for line in f:\n",
    "            my_pd = my_pd.append({\"body\":re.sub('[^A-Za-z0-9]+', \" \", line)}, ignore_index= True)\n",
    "            \n",
    " We DO NOT have to file.close() as it automatically does it\"\"\"\""
   ]
  },
  {
   "cell_type": "code",
   "execution_count": 83,
   "id": "c90a4711",
   "metadata": {},
   "outputs": [
    {
     "data": {
      "text/plain": [
       "'Hello This class has faced a lot of technical difficulties today hopefully that doesn t happen again Very frustrating Ugh'"
      ]
     },
     "execution_count": 83,
     "metadata": {},
     "output_type": "execute_result"
    }
   ],
   "source": [
    "my_func2(\"Lec3text.txt\")"
   ]
  },
  {
   "cell_type": "code",
   "execution_count": 87,
   "id": "4c14bdb8",
   "metadata": {},
   "outputs": [
    {
     "data": {
      "text/plain": [
       "'Hello This class has faced a lot of technical difficulties today hopefully that doesn t happen again Very frustrating Ugh'"
      ]
     },
     "execution_count": 87,
     "metadata": {},
     "output_type": "execute_result"
    }
   ],
   "source": [
    "my_func2(\"Lec3text.txt\")"
   ]
  },
  {
   "cell_type": "code",
   "execution_count": 104,
   "id": "51ae6597",
   "metadata": {},
   "outputs": [],
   "source": [
    "\"\"\" we will iterate through an array of file names\n",
    "open and process text in each file and append to pandas dataframe\"\"\"\n",
    "the_files = [\"Lec3text.txt\", \"test.txt\"]\n"
   ]
  },
  {
   "cell_type": "code",
   "execution_count": 118,
   "id": "4c02b995",
   "metadata": {},
   "outputs": [],
   "source": [
    "#my_func3 iterates through a list of files, opens each file, and displays them in a data frame\n",
    "def my_func3(f_list):\n",
    "    import pandas as pd\n",
    "    my_pd = pd.DataFrame()\n",
    "    for file in f_list:\n",
    "        read_file= my_func2(file)\n",
    "        my_pd = my_pd.append({\"col\":re.sub('[^A-Za-z0-9]+', \" \", read_file).strip(\"\\n\")}, ignore_index =True)\n",
    "    return my_pd"
   ]
  },
  {
   "cell_type": "code",
   "execution_count": 119,
   "id": "61611041",
   "metadata": {},
   "outputs": [
    {
     "data": {
      "text/html": [
       "<div>\n",
       "<style scoped>\n",
       "    .dataframe tbody tr th:only-of-type {\n",
       "        vertical-align: middle;\n",
       "    }\n",
       "\n",
       "    .dataframe tbody tr th {\n",
       "        vertical-align: top;\n",
       "    }\n",
       "\n",
       "    .dataframe thead th {\n",
       "        text-align: right;\n",
       "    }\n",
       "</style>\n",
       "<table border=\"1\" class=\"dataframe\">\n",
       "  <thead>\n",
       "    <tr style=\"text-align: right;\">\n",
       "      <th></th>\n",
       "      <th>col</th>\n",
       "    </tr>\n",
       "  </thead>\n",
       "  <tbody>\n",
       "    <tr>\n",
       "      <th>0</th>\n",
       "      <td>Hello This class has faced a lot of technical ...</td>\n",
       "    </tr>\n",
       "    <tr>\n",
       "      <th>1</th>\n",
       "      <td>Hi How are you I am good and you</td>\n",
       "    </tr>\n",
       "  </tbody>\n",
       "</table>\n",
       "</div>"
      ],
      "text/plain": [
       "                                                 col\n",
       "0  Hello This class has faced a lot of technical ...\n",
       "1                   Hi How are you I am good and you"
      ]
     },
     "execution_count": 119,
     "metadata": {},
     "output_type": "execute_result"
    }
   ],
   "source": [
    "my_func3(the_files)"
   ]
  },
  {
   "cell_type": "code",
   "execution_count": 139,
   "id": "82b3e57d",
   "metadata": {},
   "outputs": [],
   "source": [
    "# Create two columns: 1)\"num_words\" shows count of total number of words 2) \"unique_words\"\n",
    "def my_file_opener(file_array):\n",
    "    import pandas as pd\n",
    "    my_pd = pd.DataFrame()\n",
    "    for file_in in file_array:\n",
    "        tmp = open(file_in, \"r\")\n",
    "        tmp_f = tmp.read()\n",
    "        count = len(tmp_f.split())\n",
    "        unique = len(set(tmp_f.split()))\n",
    "        tmp.close() #ALWAYS CLOSE THIS\n",
    "        tmp_f = re.sub('[^A-Za-z0-9]+', \" \", tmp_f).strip() #\\n extra spacex\n",
    "        my_pd = my_pd.append({\"body\": tmp_f, \"num_words\": count, \"unique_words\": unique}, ignore_index=True)\n",
    "    return my_pd\n",
    "\n"
   ]
  },
  {
   "cell_type": "code",
   "execution_count": 140,
   "id": "c9ac7ad4",
   "metadata": {},
   "outputs": [
    {
     "data": {
      "text/html": [
       "<div>\n",
       "<style scoped>\n",
       "    .dataframe tbody tr th:only-of-type {\n",
       "        vertical-align: middle;\n",
       "    }\n",
       "\n",
       "    .dataframe tbody tr th {\n",
       "        vertical-align: top;\n",
       "    }\n",
       "\n",
       "    .dataframe thead th {\n",
       "        text-align: right;\n",
       "    }\n",
       "</style>\n",
       "<table border=\"1\" class=\"dataframe\">\n",
       "  <thead>\n",
       "    <tr style=\"text-align: right;\">\n",
       "      <th></th>\n",
       "      <th>body</th>\n",
       "      <th>num_words</th>\n",
       "      <th>unique_words</th>\n",
       "    </tr>\n",
       "  </thead>\n",
       "  <tbody>\n",
       "    <tr>\n",
       "      <th>0</th>\n",
       "      <td>Hello This class has faced a lot of technical ...</td>\n",
       "      <td>19.0</td>\n",
       "      <td>19.0</td>\n",
       "    </tr>\n",
       "    <tr>\n",
       "      <th>1</th>\n",
       "      <td>Hi How are you I am good and you</td>\n",
       "      <td>9.0</td>\n",
       "      <td>9.0</td>\n",
       "    </tr>\n",
       "  </tbody>\n",
       "</table>\n",
       "</div>"
      ],
      "text/plain": [
       "                                                body  num_words  unique_words\n",
       "0  Hello This class has faced a lot of technical ...       19.0          19.0\n",
       "1                   Hi How are you I am good and you        9.0           9.0"
      ]
     },
     "execution_count": 140,
     "metadata": {},
     "output_type": "execute_result"
    }
   ],
   "source": [
    "my_file_opener(the_files)"
   ]
  },
  {
   "cell_type": "code",
   "execution_count": 144,
   "id": "d683d093",
   "metadata": {},
   "outputs": [
    {
     "name": "stdout",
     "output_type": "stream",
     "text": [
      "2021-09-29 00:00:00\n"
     ]
    }
   ],
   "source": [
    "import datetime\n",
    "time_str = \"20210929\"\n",
    "my_dt = datetime.datetime.strptime(time_str, \"%Y%m%d\")\n",
    "print(my_dt)"
   ]
  },
  {
   "cell_type": "code",
   "execution_count": 148,
   "id": "8668b93c",
   "metadata": {},
   "outputs": [
    {
     "name": "stdout",
     "output_type": "stream",
     "text": [
      "2021-09-29\n"
     ]
    }
   ],
   "source": [
    "print(my_dt.strftime(\"%Y-%m-%d\"))"
   ]
  },
  {
   "cell_type": "code",
   "execution_count": null,
   "id": "517db69a",
   "metadata": {},
   "outputs": [],
   "source": []
  }
 ],
 "metadata": {
  "kernelspec": {
   "display_name": "Python 3",
   "language": "python",
   "name": "python3"
  },
  "language_info": {
   "codemirror_mode": {
    "name": "ipython",
    "version": 3
   },
   "file_extension": ".py",
   "mimetype": "text/x-python",
   "name": "python",
   "nbconvert_exporter": "python",
   "pygments_lexer": "ipython3",
   "version": "3.8.8"
  }
 },
 "nbformat": 4,
 "nbformat_minor": 5
}
