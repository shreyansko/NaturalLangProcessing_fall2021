{
 "cells": [
  {
   "cell_type": "code",
   "execution_count": 2,
   "id": "c90e7e50",
   "metadata": {},
   "outputs": [
    {
     "data": {
      "text/plain": [
       "'\\nThis is a multi line comment\\nAuthor: Shreyans Kothari\\nPRoject: Lecture 1'"
      ]
     },
     "execution_count": 2,
     "metadata": {},
     "output_type": "execute_result"
    }
   ],
   "source": [
    "\"\"\"\n",
    "This is a multi line comment\n",
    "Author: Shreyans Kothari\n",
    "PRoject: Lecture 1\"\"\""
   ]
  },
  {
   "cell_type": "code",
   "execution_count": null,
   "id": "dfde9872",
   "metadata": {},
   "outputs": [],
   "source": [
    "#This is a single line comment"
   ]
  },
  {
   "cell_type": "code",
   "execution_count": 1,
   "id": "7690df9c",
   "metadata": {},
   "outputs": [],
   "source": [
    "my_var_int = 1\n",
    "my_var_string = \"shreyans\"\n",
    "my_var_boolean = True #False\n",
    "my_var_float = 3.14"
   ]
  },
  {
   "cell_type": "code",
   "execution_count": 4,
   "id": "5cb706db",
   "metadata": {},
   "outputs": [
    {
     "name": "stdout",
     "output_type": "stream",
     "text": [
      "shreyans\n"
     ]
    }
   ],
   "source": [
    "print(my_var_string)"
   ]
  },
  {
   "cell_type": "code",
   "execution_count": 5,
   "id": "1d084e3c",
   "metadata": {},
   "outputs": [
    {
     "name": "stdout",
     "output_type": "stream",
     "text": [
      "<class 'str'>\n"
     ]
    }
   ],
   "source": [
    "print(type(my_var_string)) #type() gives the type of the object"
   ]
  },
  {
   "cell_type": "code",
   "execution_count": 6,
   "id": "327e331a",
   "metadata": {},
   "outputs": [
    {
     "name": "stdout",
     "output_type": "stream",
     "text": [
      "<class 'str'>\n"
     ]
    }
   ],
   "source": [
    "my_int_string = \"1234\"\n",
    "print(type(my_int_string))"
   ]
  },
  {
   "cell_type": "code",
   "execution_count": 7,
   "id": "38d79de9",
   "metadata": {},
   "outputs": [],
   "source": [
    "my_int_string_conv = int(my_int_string) #converting to integer"
   ]
  },
  {
   "cell_type": "code",
   "execution_count": 8,
   "id": "eead4780",
   "metadata": {},
   "outputs": [
    {
     "name": "stdout",
     "output_type": "stream",
     "text": [
      "<class 'int'>\n"
     ]
    }
   ],
   "source": [
    "print(type(my_int_string_conv))"
   ]
  },
  {
   "cell_type": "code",
   "execution_count": 12,
   "id": "de30110e",
   "metadata": {},
   "outputs": [],
   "source": [
    "my_string = \"Shreyans\" + \" \"+ \"Kothari\" #concatenate"
   ]
  },
  {
   "cell_type": "code",
   "execution_count": 13,
   "id": "1b7e05a6",
   "metadata": {},
   "outputs": [
    {
     "name": "stdout",
     "output_type": "stream",
     "text": [
      "Shreyans Kothari\n"
     ]
    }
   ],
   "source": [
    "print(my_string)"
   ]
  },
  {
   "cell_type": "code",
   "execution_count": 14,
   "id": "5efdf58f",
   "metadata": {},
   "outputs": [
    {
     "name": "stdout",
     "output_type": "stream",
     "text": [
      "Shreyans KothariShreyans Kothari\n"
     ]
    }
   ],
   "source": [
    "print(my_string *2) #performs the function twice"
   ]
  },
  {
   "cell_type": "code",
   "execution_count": 15,
   "id": "be70262d",
   "metadata": {},
   "outputs": [],
   "source": [
    "#Data Structure Type- List\n",
    "#two ways of making a list:\n",
    "my_list = [] \n",
    "my_list = list()"
   ]
  },
  {
   "cell_type": "code",
   "execution_count": null,
   "id": "0fbc2728",
   "metadata": {},
   "outputs": [],
   "source": []
  }
 ],
 "metadata": {
  "kernelspec": {
   "display_name": "Python 3",
   "language": "python",
   "name": "python3"
  },
  "language_info": {
   "codemirror_mode": {
    "name": "ipython",
    "version": 3
   },
   "file_extension": ".py",
   "mimetype": "text/x-python",
   "name": "python",
   "nbconvert_exporter": "python",
   "pygments_lexer": "ipython3",
   "version": "3.8.8"
  }
 },
 "nbformat": 4,
 "nbformat_minor": 5
}
